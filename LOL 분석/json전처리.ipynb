{
 "cells": [
  {
   "cell_type": "code",
   "execution_count": 3,
   "metadata": {},
   "outputs": [],
   "source": [
    "#https://opgg-data-analytics.s3.ap-northeast-2.amazonaws.com/recruit/20200910/lol_kr_v1018_soloRank.json\n",
    "\n",
    "import pandas as pd\n",
    "import json #json을 파싱하기 위해\n",
    "import gc # 메모리 대비\n",
    "\n",
    "dict={}\n",
    "cnt=0\n",
    "with open('PATH AND FILE','r', encoding='utf-8-sig') as read_file:\n",
    "     for line in read_file:\n",
    "        json_data=json.loads(line)\n",
    "        dict[str(cnt)]=json_data\n",
    "        cnt=cnt+1\n"
   ]
  },
  {
   "cell_type": "code",
   "execution_count": 4,
   "metadata": {},
   "outputs": [
    {
     "data": {
      "text/plain": [
       "21"
      ]
     },
     "execution_count": 4,
     "metadata": {},
     "output_type": "execute_result"
    }
   ],
   "source": [
    "# dict['0']['teams'][0]['teamid']\n",
    "# dict['0']['participants'][0]['championid']\n",
    "# dict['0']['teams'][0]\n",
    "# dict[]['teams'][0]['teamid']\n",
    "dict['0']['participants'][9]['championid']"
   ]
  },
  {
   "cell_type": "code",
   "execution_count": 5,
   "metadata": {},
   "outputs": [],
   "source": [
    "#model1\n",
    "import pandas as pd\n",
    "import os\n",
    "from datetime import date\n",
    "\n",
    "area=[]\n",
    "pick_1=[]\n",
    "pick_2=[]\n",
    "pick_3=[]\n",
    "pick_4=[]\n",
    "pick_5=[]\n",
    "gameduration=[]\n",
    "first_blood=[]\n",
    "first_tower=[]\n",
    "tower_kills=[]\n",
    "first_inhibitor=[]\n",
    "first_rift=[]\n",
    "first_dragon=[]\n",
    "dragon_kills=[]\n",
    "first_baron=[]\n",
    "baron_kills=[]\n",
    "result=[]\n",
    "\n",
    "for i in range(0, len(dict)):\n",
    "    area.append(dict[str(i)]['teams'][0]['teamid'])\n",
    "    area.append(dict[str(i)]['teams'][1]['teamid'])\n",
    "    gameduration.append(dict[str(i)]['gameduration'])\n",
    "    gameduration.append(dict[str(i)]['gameduration'])\n",
    "    first_blood.append(dict[str(i)]['teams'][0]['firstblood'])\n",
    "    first_blood.append(dict[str(i)]['teams'][1]['firstblood'])\n",
    "    first_tower.append(dict[str(i)]['teams'][0]['firsttower'])\n",
    "    first_tower.append(dict[str(i)]['teams'][1]['firsttower'])\n",
    "    tower_kills.append(dict[str(i)]['teams'][0]['towerkills'])\n",
    "    tower_kills.append(dict[str(i)]['teams'][1]['towerkills'])\n",
    "    first_inhibitor.append(dict[str(i)]['teams'][0]['firstinhibitor'])\n",
    "    first_inhibitor.append(dict[str(i)]['teams'][1]['firstinhibitor'])\n",
    "    first_rift.append(dict[str(i)]['teams'][0]['firstriftherald'])\n",
    "    first_rift.append(dict[str(i)]['teams'][1]['firstriftherald'])\n",
    "    first_dragon.append(dict[str(i)]['teams'][0]['firstdragon'])\n",
    "    first_dragon.append(dict[str(i)]['teams'][1]['firstdragon'])\n",
    "    dragon_kills.append(dict[str(i)]['teams'][0]['dragonkills'])\n",
    "    dragon_kills.append(dict[str(i)]['teams'][1]['dragonkills'])\n",
    "    first_baron.append(dict[str(i)]['teams'][0]['firstbaron'])\n",
    "    first_baron.append(dict[str(i)]['teams'][1]['firstbaron'])\n",
    "    baron_kills.append(dict[str(i)]['teams'][0]['baronkills'])\n",
    "    baron_kills.append(dict[str(i)]['teams'][1]['baronkills'])\n",
    "    result.append(dict[str(i)]['teams'][0]['win'])\n",
    "    result.append(dict[str(i)]['teams'][1]['win'])\n",
    "    pick_1.append(dict[str(i)]['participants'][0]['championid'])\n",
    "    pick_1.append(dict[str(i)]['participants'][5]['championid'])\n",
    "    pick_2.append(dict[str(i)]['participants'][1]['championid'])\n",
    "    pick_2.append(dict[str(i)]['participants'][6]['championid'])\n",
    "    pick_3.append(dict[str(i)]['participants'][2]['championid'])\n",
    "    pick_3.append(dict[str(i)]['participants'][7]['championid'])\n",
    "    pick_4.append(dict[str(i)]['participants'][3]['championid'])\n",
    "    pick_4.append(dict[str(i)]['participants'][8]['championid'])\n",
    "    pick_5.append(dict[str(i)]['participants'][4]['championid'])\n",
    "    pick_5.append(dict[str(i)]['participants'][9]['championid'])\n",
    "\n",
    "\n",
    "result_Data=pd.DataFrame({'area':area,\n",
    "                          'pick_1':pick_1,\n",
    "                          'pick_2':pick_2,\n",
    "                          'pick_3':pick_3,\n",
    "                          'pick_4':pick_4,\n",
    "                          'pick_5':pick_5,\n",
    "                          'gameduration':gameduration,\n",
    "                          'first_blood':first_blood,\n",
    "                          'first_tower':first_tower,\n",
    "                          'tower_kills':tower_kills,\n",
    "                          'first_inhibitor':first_inhibitor,\n",
    "                          'first_rift':first_rift,\n",
    "                          'first_dragon':first_dragon,\n",
    "                          'dragon_kills':dragon_kills,\n",
    "                          'first_baron':first_baron,\n",
    "                          'baron_kills':baron_kills,\n",
    "                          'result':result,\n",
    "                         })\n",
    "\n",
    "result_Data.to_csv('C:/Users/User/Desktop/opgg/data.csv', encoding='CP949')\n",
    "    \n",
    "        \n",
    "    "
   ]
  }
 ],
 "metadata": {
  "kernelspec": {
   "display_name": "Python 3",
   "language": "python",
   "name": "python3"
  },
  "language_info": {
   "codemirror_mode": {
    "name": "ipython",
    "version": 3
   },
   "file_extension": ".py",
   "mimetype": "text/x-python",
   "name": "python",
   "nbconvert_exporter": "python",
   "pygments_lexer": "ipython3",
   "version": "3.8.3"
  }
 },
 "nbformat": 4,
 "nbformat_minor": 4
}
